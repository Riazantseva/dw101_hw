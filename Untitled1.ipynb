{
  "nbformat": 4,
  "nbformat_minor": 0,
  "metadata": {
    "colab": {
      "name": "Untitled1.ipynb",
      "version": "0.3.2",
      "provenance": [],
      "include_colab_link": true
    },
    "kernelspec": {
      "name": "python3",
      "display_name": "Python 3"
    }
  },
  "cells": [
    {
      "cell_type": "markdown",
      "metadata": {
        "id": "view-in-github",
        "colab_type": "text"
      },
      "source": [
        "<a href=\"https://colab.research.google.com/github/Riazantseva/dw101_hw/blob/master/Untitled1.ipynb\" target=\"_parent\"><img src=\"https://colab.research.google.com/assets/colab-badge.svg\" alt=\"Open In Colab\"/></a>"
      ]
    },
    {
      "metadata": {
        "id": "L1qO6z0Aot7p",
        "colab_type": "code",
        "outputId": "a0915d53-6f85-44f3-cf2d-0251e9dec28b",
        "colab": {
          "base_uri": "https://localhost:8080/",
          "height": 51
        }
      },
      "cell_type": "code",
      "source": [
        "z=5\n",
        "def func():\n",
        "  z=3\n",
        "  print (z)\n",
        "func()\n",
        "print (z)"
      ],
      "execution_count": 0,
      "outputs": [
        {
          "output_type": "stream",
          "text": [
            "3\n",
            "5\n"
          ],
          "name": "stdout"
        }
      ]
    },
    {
      "metadata": {
        "id": "Y4dE9HZhkG9S",
        "colab_type": "code",
        "colab": {}
      },
      "cell_type": "code",
      "source": [
        "!pip install swg"
      ],
      "execution_count": 0,
      "outputs": []
    },
    {
      "metadata": {
        "id": "IC0F4xYBuzNQ",
        "colab_type": "code",
        "outputId": "a15772c1-ca14-4ea9-9de0-1be20a5aec44",
        "colab": {
          "base_uri": "https://localhost:8080/",
          "height": 34
        }
      },
      "cell_type": "code",
      "source": [
        "def summ(a,b):\n",
        "    return a+b\n",
        "summ(4,6)"
      ],
      "execution_count": 0,
      "outputs": [
        {
          "output_type": "execute_result",
          "data": {
            "text/plain": [
              "10"
            ]
          },
          "metadata": {
            "tags": []
          },
          "execution_count": 4
        }
      ]
    },
    {
      "metadata": {
        "id": "-kflZahPos3R",
        "colab_type": "code",
        "outputId": "9eb1d1ec-1df7-42fb-dac1-e4af18d95bcc",
        "colab": {
          "base_uri": "https://localhost:8080/",
          "height": 346
        }
      },
      "cell_type": "code",
      "source": [
        "import math\n",
        "\n",
        "class RightTriangle:\n",
        "  def __init__(self, cat1,cat2, hipo=0, area=0, perimetr=0):\n",
        "    self.cat1=cat1\n",
        "    self.cat2cat2\n",
        "    self.hipo=hipo\n",
        "    self.area=area\n",
        "    self.perimetr=perimetr\n",
        "  def calc_hipo(self):\n",
        "    self.hipo=(self.cat1**2+self.cat2**2)**0.5\n",
        "   \n",
        "  def calc_area(self):\n",
        "    self.area=(self.cat1*self.cat2)*0.5\n",
        "    \n",
        "  def calc_perimetr(self):\n",
        "    self.perimetr=self.cat1+self.cat2+self.hipo\n",
        "   \n",
        "  def show_info(self):\n",
        "    print(\"triangle info. \\n Hipo:%s \\n area:%s \\n perimetr:%s\" % (self.hipo, self.area, self.perimetr) )\n",
        "    \n",
        "  \n",
        "  RT1=RightTriangle(2,3)\n",
        "  \n",
        "  RT1.calc_hipo()\n",
        "  RT1.calc_area()\n",
        "  RT1.calc_perimetr()\n",
        "  RT1.show_info()\n",
        "  "
      ],
      "execution_count": 0,
      "outputs": [
        {
          "output_type": "error",
          "ename": "NameError",
          "evalue": "ignored",
          "traceback": [
            "\u001b[0;31m---------------------------------------------------------------------------\u001b[0m",
            "\u001b[0;31mNameError\u001b[0m                                 Traceback (most recent call last)",
            "\u001b[0;32m<ipython-input-3-1b8219fda046>\u001b[0m in \u001b[0;36m<module>\u001b[0;34m()\u001b[0m\n\u001b[1;32m      1\u001b[0m \u001b[0;32mimport\u001b[0m \u001b[0mmath\u001b[0m\u001b[0;34m\u001b[0m\u001b[0;34m\u001b[0m\u001b[0m\n\u001b[1;32m      2\u001b[0m \u001b[0;34m\u001b[0m\u001b[0m\n\u001b[0;32m----> 3\u001b[0;31m \u001b[0;32mclass\u001b[0m \u001b[0mRightTriangle\u001b[0m\u001b[0;34m:\u001b[0m\u001b[0;34m\u001b[0m\u001b[0;34m\u001b[0m\u001b[0m\n\u001b[0m\u001b[1;32m      4\u001b[0m   \u001b[0;32mdef\u001b[0m \u001b[0m__init__\u001b[0m\u001b[0;34m(\u001b[0m\u001b[0mself\u001b[0m\u001b[0;34m,\u001b[0m \u001b[0mcat1\u001b[0m\u001b[0;34m,\u001b[0m\u001b[0mcat2\u001b[0m\u001b[0;34m,\u001b[0m \u001b[0mhipo\u001b[0m\u001b[0;34m=\u001b[0m\u001b[0;36m0\u001b[0m\u001b[0;34m,\u001b[0m \u001b[0marea\u001b[0m\u001b[0;34m=\u001b[0m\u001b[0;36m0\u001b[0m\u001b[0;34m,\u001b[0m \u001b[0mperimetr\u001b[0m\u001b[0;34m=\u001b[0m\u001b[0;36m0\u001b[0m\u001b[0;34m)\u001b[0m\u001b[0;34m:\u001b[0m\u001b[0;34m\u001b[0m\u001b[0;34m\u001b[0m\u001b[0m\n\u001b[1;32m      5\u001b[0m     \u001b[0mself\u001b[0m\u001b[0;34m.\u001b[0m\u001b[0mcat1\u001b[0m\u001b[0;34m=\u001b[0m\u001b[0mcat1\u001b[0m\u001b[0;34m\u001b[0m\u001b[0;34m\u001b[0m\u001b[0m\n",
            "\u001b[0;32m<ipython-input-3-1b8219fda046>\u001b[0m in \u001b[0;36mRightTriangle\u001b[0;34m()\u001b[0m\n\u001b[1;32m     21\u001b[0m \u001b[0;34m\u001b[0m\u001b[0m\n\u001b[1;32m     22\u001b[0m \u001b[0;34m\u001b[0m\u001b[0m\n\u001b[0;32m---> 23\u001b[0;31m   \u001b[0mRT1\u001b[0m\u001b[0;34m=\u001b[0m\u001b[0mRightTriangle\u001b[0m\u001b[0;34m(\u001b[0m\u001b[0;36m2\u001b[0m\u001b[0;34m,\u001b[0m\u001b[0;36m3\u001b[0m\u001b[0;34m)\u001b[0m\u001b[0;34m\u001b[0m\u001b[0;34m\u001b[0m\u001b[0m\n\u001b[0m\u001b[1;32m     24\u001b[0m \u001b[0;34m\u001b[0m\u001b[0m\n\u001b[1;32m     25\u001b[0m   \u001b[0mRT1\u001b[0m\u001b[0;34m.\u001b[0m\u001b[0mcalc_hipo\u001b[0m\u001b[0;34m(\u001b[0m\u001b[0;34m)\u001b[0m\u001b[0;34m\u001b[0m\u001b[0;34m\u001b[0m\u001b[0m\n",
            "\u001b[0;31mNameError\u001b[0m: name 'RightTriangle' is not defined"
          ]
        }
      ]
    },
    {
      "metadata": {
        "id": "xRSDwzQ4u37C",
        "colab_type": "code",
        "outputId": "c504849f-20ef-4b2b-dd16-1088a3cf4911",
        "colab": {
          "base_uri": "https://localhost:8080/",
          "height": 151
        }
      },
      "cell_type": "code",
      "source": [
        "import math\n",
        "\n",
        "class RightTriangle:\n",
        "  def __init__(self, cat1,cat2, hipo=0, area=0, perimetr=0):\n",
        "    self.cat1=cat1\n",
        "    self.cat2=cat2\n",
        "    self.hipo=hipo\n",
        "    self.area=area\n",
        "    self.perimetr=perimetr\n",
        "  def calc_hipo(self):\n",
        "    self.hipo=(self.cat1**2+self.cat2**2)**0.5\n",
        "   \n",
        "  def calc_area(self):\n",
        "    self.area=(self.cat1*self.cat2)*0.5\n",
        "    \n",
        "  def calc_perimetr(self):\n",
        "    self.perimetr=self.cat1+self.cat2+self.hipo\n",
        "   \n",
        "  def show_info(self):\n",
        "    print(\"triangle info. \\n Hipo:%s \\n area:%s \\n perimetr:%s\" % (self.hipo, self.area, self.perimetr) )\n",
        "    \n",
        "  \n",
        "RT1=RightTriangle(2,3)\n",
        "RT1.calc_hipo()\n",
        "RT1.calc_area()\n",
        "RT1.calc_perimetr()\n",
        "RT1.show_info()\n",
        "\n",
        "\n",
        "RT2=RightTriangle(4,5)\n",
        "RT2.calc_hipo()\n",
        "RT2.calc_area()\n",
        "RT2.calc_perimetr()\n",
        "RT2.show_info()"
      ],
      "execution_count": 0,
      "outputs": [
        {
          "output_type": "stream",
          "text": [
            "triangle info. \n",
            " Hipo:3.605551275463989 \n",
            " area:3.0 \n",
            " perimetr:8.60555127546399\n",
            "triangle info. \n",
            " Hipo:6.4031242374328485 \n",
            " area:10.0 \n",
            " perimetr:15.403124237432849\n"
          ],
          "name": "stdout"
        }
      ]
    },
    {
      "metadata": {
        "id": "dcQip7dDzeOl",
        "colab_type": "code",
        "colab": {}
      },
      "cell_type": "code",
      "source": [
        "import string\n",
        "import random\n",
        "\n",
        "StudentsList{}\n",
        "\n",
        "\n",
        "class Student:\n",
        "  def __init__(self, Name,FamilyName, email, Marks, result=0):\n",
        "    self.Name=Name\n",
        "    self.FamilyName=FamilyName\n",
        "    self.email=email\n",
        "    self.Marks=[]\n",
        "    self.result=result\n",
        "   \n",
        "  def calc.result(self)\n",
        "    x=0\n",
        "    For Marks in self.Marks\n",
        "      x=x+Marks\n",
        "      self.result=self.result/len(self.Marks)\n",
        "      \n",
        "      \n",
        "def add.students\n",
        "  NewStudent=input(\"Name,FamilyName, email, Marks\").split\n",
        "  StudentID =''.join(random.choices(string.ascii_uppercase + string.digits, k=6))\n",
        "  StudentsList[StudentID]=NewStudent\n",
        "  print (StudentsList)\n",
        "  \n",
        "  \n",
        "        \n",
        "z=input(\"enter 0 to add a student \\n, enter 1 to show students list \\n, enter 2 and ID to show students info, enter 3 and ID to change students result, enter 4 and ID to delete a student\").split()\n",
        "\n",
        "  if z(0)=1:\n",
        "    #функция добавления юзверей\n",
        "    input (\"add a student: Name, FamilyName, email, Marks \")\n",
        "  if z(0)=2:\n",
        "    print(StudentsList{})  \n",
        "  if z(0)=3:\n",
        "    #Замена значения Marks\n",
        "    print(StudentsList{})\n",
        "  if z(0)=4: \n",
        "    #удаление элемента \n",
        "    \n",
        "    \n",
        "    \n",
        "def EnterSt()\n",
        "  z=input(\"enter 0 to add a student \\n, enter 1 to show students list \\n, enter 2 and ID to show students info, enter 3 and ID to change students result, enter 4 and ID to delete a student\")   \") \n",
        "  if z=0:\n",
        "    input (\"add a student: Name, FamilyName, email, Marks \")\n",
        "  if z=1:\n",
        "    print(StudentsList{})  \n",
        "  if z=2:\n",
        "    print(StudentsList{})\n",
        "\n",
        "   \n",
        "    \n",
        "\n",
        "    \n",
        "    \n",
        "    \n",
        "    \n",
        "    "
      ],
      "execution_count": 0,
      "outputs": []
    },
    {
      "metadata": {
        "id": "NyaKJGtM7qnz",
        "colab_type": "code",
        "outputId": "aa1b1d29-bf2a-4797-8ea7-647215e78f41",
        "colab": {
          "base_uri": "https://localhost:8080/",
          "height": 129
        }
      },
      "cell_type": "code",
      "source": [
        "import string\n",
        "import random\n",
        "StudentsList{}\n",
        "\n",
        "def add_students():\n",
        "  NewStudent=input(\"Name,FamilyName, email, Marks\").split\n",
        "  StudentID =''.join(random.choices(string.ascii_uppercase + string.digits, k=6))\n",
        "  StudentsList[StudentID]=NewStudent\n",
        "  print (StudentsList)\n",
        "  \n",
        "a=add_students()\n"
      ],
      "execution_count": 0,
      "outputs": [
        {
          "output_type": "error",
          "ename": "SyntaxError",
          "evalue": "ignored",
          "traceback": [
            "\u001b[0;36m  File \u001b[0;32m\"<ipython-input-7-51342d2b0bd0>\"\u001b[0;36m, line \u001b[0;32m3\u001b[0m\n\u001b[0;31m    StudentsList{}\u001b[0m\n\u001b[0m                ^\u001b[0m\n\u001b[0;31mSyntaxError\u001b[0m\u001b[0;31m:\u001b[0m invalid syntax\n"
          ]
        }
      ]
    },
    {
      "metadata": {
        "id": "H3Ss_7kQ7ruO",
        "colab_type": "code",
        "outputId": "ecc4f913-a8bf-4fcc-f958-6c6365fc7487",
        "colab": {
          "base_uri": "https://localhost:8080/",
          "height": 180
        }
      },
      "cell_type": "code",
      "source": [
        "a=add_students()\n",
        "a\n"
      ],
      "execution_count": 0,
      "outputs": [
        {
          "output_type": "error",
          "ename": "NameError",
          "evalue": "ignored",
          "traceback": [
            "\u001b[0;31m---------------------------------------------------------------------------\u001b[0m",
            "\u001b[0;31mNameError\u001b[0m                                 Traceback (most recent call last)",
            "\u001b[0;32m<ipython-input-6-05baba4a71de>\u001b[0m in \u001b[0;36m<module>\u001b[0;34m()\u001b[0m\n\u001b[0;32m----> 1\u001b[0;31m \u001b[0ma\u001b[0m\u001b[0;34m=\u001b[0m\u001b[0madd_students\u001b[0m\u001b[0;34m(\u001b[0m\u001b[0;34m)\u001b[0m\u001b[0;34m\u001b[0m\u001b[0;34m\u001b[0m\u001b[0m\n\u001b[0m\u001b[1;32m      2\u001b[0m \u001b[0ma\u001b[0m\u001b[0;34m\u001b[0m\u001b[0;34m\u001b[0m\u001b[0m\n",
            "\u001b[0;31mNameError\u001b[0m: name 'add_students' is not defined"
          ]
        }
      ]
    }
  ]
}